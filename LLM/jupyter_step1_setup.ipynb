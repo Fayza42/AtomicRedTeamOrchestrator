# %% [markdown]
"""
# 🎯 VPLE LLM vs Human Intelligence Benchmark
## Step 1: Setup Système Complet

Ce notebook configure tout le système de benchmark pour comparer:
- **LLM**: Génération de scénarios d'attaque via LLaMA 13B + RAG MITRE ATT&CK
- **Human**: Votre expertise (sans révéler vos techniques)
- **Execution**: Vous testez manuellement les scénarios sur VPLE VM

### Workflow de Recherche:
1. **Setup** (ce notebook) - Installation Ollama + RAG
2. **Generation** - LLM génère scénarios d'attaque  
3. **Manual Testing** - Vous exécutez sur VPLE VM
4. **Analysis** - Comparaison quantitative des résultats

### VPLE Target Information:
- **IP**: 192.168.x.x (ajustez selon votre config)
- **Credentials**: administrator:password
- **Applications**: 7 web apps vulnérables
- **Access**: Aucun accès direct du container - génération de scénarios uniquement
"""

# %%
import sys
import json
import time
import subprocess
from datetime import datetime
import warnings
warnings.filterwarnings('ignore')

# Import du système de benchmark
try:
    from vple_llm_benchmark import (
        setup_vple_benchmark, 
        generate_vple_scenarios,
        VPLELLMBenchmark
    )
    print("✅ Modules de benchmark importés avec succès")
except ImportError as e:
    print(f"❌ Erreur d'import: {e}")
    print("🔧 Assurez-vous que le fichier vple_llm_benchmark.py est dans le même répertoire")
    sys.exit(1)

print("🎯 VPLE LLM vs Human Intelligence Benchmark - Setup")
print("=" * 60)

# %%
# Configuration de votre environnement VPLE
VPLE_CONFIG = {
    "ip": "192.168.1.100",  # 🔧 AJUSTEZ SELON VOTRE VPLE VM
    "credentials": {
        "username": "administrator", 
        "password": "password"
    },
    "applications": [
        {"name": "DVWA", "port": 1335, "focus": "Basic web vulnerabilities"},
        {"name": "Mutillidae", "port": 1336, "focus": "OWASP Top 10"}, 
        {"name": "WebGoat", "port": 1337, "focus": "Java-based challenges"},
        {"name": "bWAPP", "port": 8080, "focus": "100+ vulnerabilities"},
        {"name": "Juice Shop", "port": 3000, "focus": "Modern JavaScript"},
        {"name": "Security Ninjas", "port": 8899, "focus": "Real-world scenarios"},
        {"name": "WordPress", "port": 8800, "focus": "CMS vulnerabilities"}
    ]
}

print(f"🎯 VPLE Target Configuration:")
print(f"   IP: {VPLE_CONFIG['ip']}")
print(f"   Applications: {len(VPLE_CONFIG['applications'])} web apps")
print(f"   Credentials: {VPLE_CONFIG['credentials']['username']}:{VPLE_CONFIG['credentials']['password']}")

# Vérification GPU avant setup
print(f"\n🔥 Vérification GPU RTX 4090...")
try:
    gpu_check = subprocess.run(["nvidia-smi", "--query-gpu=name,memory.total,memory.used", 
                               "--format=csv,noheader"], 
                              capture_output=True, text=True, timeout=10)
    if gpu_check.returncode == 0:
        gpu_lines = gpu_check.stdout.strip().split('\n')
        for line in gpu_lines:
            if 'RTX 4090' in line or '24' in line:  # 24GB VRAM
                print(f"✅ GPU Détectée: {line}")
                break
        else:
            print(f"⚠️ GPU Info: {gpu_lines[0] if gpu_lines else 'Unknown'}")
    else:
        print("⚠️ nvidia-smi non disponible - continuons quand même")
except Exception as e:
    print(f"⚠️ Erreur GPU check: {e}")

# %%
"""
🚀 SETUP COMPLET DU SYSTÈME DE BENCHMARK

Cette cellule va :
1. Installer Ollama dans le container
2. Télécharger LLaMA 13B (optimal pour RTX 4090)
3. Créer la base de connaissances VPLE + MITRE ATT&CK
4. Configurer le système RAG
5. Test de génération de scénario

⏳ TEMPS ESTIMÉ: 15-20 minutes la première fois
☕ Parfait pour une pause café !
"""

print("🔧 DÉMARRAGE DU SETUP COMPLET...")
print("⏳ Ceci prendra 15-20 minutes la première fois (téléchargement LLaMA 13B)")
print("=" * 70)

setup_start_time = time.time()

# Setup automatique complet
benchmark = setup_vple_benchmark(VPLE_CONFIG["ip"])

setup_duration = time.time() - setup_start_time

if benchmark:
    print(f"\n🎉 SETUP TERMINÉ AVEC SUCCÈS!")
    print(f"⏱️ Temps total: {setup_duration/60:.1f} minutes")
    
    # Vérification de l'utilisation GPU
    gpu_usage = benchmark.setup.get_gpu_memory_usage()
    if "error" not in gpu_usage:
        print(f"📊 GPU Usage: {gpu_usage['used_mb']:.0f}MB / {gpu_usage['total_mb']:.0f}MB ({gpu_usage['usage_percent']:.1f}%)")
    
    print(f"\n✅ Système prêt pour génération de scénarios!")
    print(f"🎯 Target: VPLE VM à {VPLE_CONFIG['ip']}")
    
else:
    print("❌ SETUP ÉCHOUÉ")
    print("🔍 Vérifiez les logs ci-dessus pour diagnostic")
    
print("\n" + "="*70)

# %%
"""
🧪 TEST RAPIDE DE GÉNÉRATION DE SCÉNARIO

Testons la capacité du LLM à générer un scénario d'attaque
basé sur les informations VPLE dans la base de connaissances.
"""

if 'benchmark' in locals() and benchmark:
    print("🧪 TEST DE GÉNÉRATION DE SCÉNARIO LLM")
    print("-" * 50)
    
    test_objective = "compromise VPLE web applications to extract sensitive data"
    
    print(f"🎯 Objectif de test: {test_objective}")
    print(f"🎪 Target VPLE: {VPLE_CONFIG['ip']}")
    print(f"\n🤖 LLM génère le scénario...")
    
    test_start = time.time()
    
    # Génération d'un scénario de test
    test_scenario = benchmark.rag_system.generate_attack_scenario(
        test_objective, 
        VPLE_CONFIG["ip"]
    )
    
    test_duration = time.time() - test_start
    
    print(f"\n📋 SCÉNARIO GÉNÉRÉ:")
    print("-" * 30)
    print(f"Nom: {test_scenario.scenario_name}")
    print(f"Apps ciblées: {', '.join(test_scenario.target_apps)}")
    print(f"Techniques MITRE: {', '.join(test_scenario.mitre_techniques)}")
    print(f"Confiance LLM: {test_scenario.confidence_score:.2f}/1.0")
    print(f"Temps de génération: {test_duration:.1f}s")
    
    print(f"\n🔗 Chaîne d'attaque ({len(test_scenario.attack_chain)} étapes):")
    for i, step in enumerate(test_scenario.attack_chain[:3], 1):  # Show first 3
        print(f"  {i}. {step.get('technique', 'N/A')}: {step.get('description', 'N/A')[:60]}...")
    
    if len(test_scenario.attack_chain) > 3:
        print(f"  ... et {len(test_scenario.attack_chain) - 3} étapes supplémentaires")
    
    print(f"\n✅ Test réussi ! Le système est opérationnel.")
    print(f"🎯 Prêt pour génération de scénarios de recherche.")
    
else:
    print("❌ Impossible de tester - système non configuré")

# %%
"""
💾 SAUVEGARDE DE LA CONFIGURATION

Sauvegardons la configuration pour les prochaines sessions
"""

if 'benchmark' in locals() and benchmark:
    
    # Configuration du système pour sauvegarde
    system_config = {
        "setup_completed": True,
        "timestamp": datetime.now().isoformat(),
        "vple_config": VPLE_CONFIG,
        "model_info": {
            "name": benchmark.setup.recommended_model,
            "loaded": benchmark.setup.model_loaded
        },
        "rag_ready": benchmark.rag_system is not None,
        "gpu_info": benchmark.setup.get_gpu_memory_usage()
    }
    
    # Sauvegarde
    config_filename = f"vple_benchmark_config_{datetime.now().strftime('%Y%m%d_%H%M%S')}.json"
    
    with open(config_filename, 'w') as f:
        json.dump(system_config, f, indent=2)
    
    print(f"💾 Configuration sauvegardée: {config_filename}")
    print(f"📊 Status système:")
    print(f"   ✅ Ollama installé: {benchmark.setup.ollama_installed}")
    print(f"   ✅ Modèle chargé: {benchmark.setup.model_loaded}")
    print(f"   ✅ RAG configuré: {benchmark.rag_system is not None}")
    
    # Variables pour les prochains notebooks
    print(f"\n🔗 Variables disponibles pour Step 2:")
    print(f"   • benchmark: Système de benchmark configuré")
    print(f"   • VPLE_CONFIG: Configuration VPLE VM")
    
else:
    print("❌ Aucune configuration à sauvegarder")

# %%
"""
📋 RÉSUMÉ DU SETUP ET PROCHAINES ÉTAPES
"""

print("🎊 SETUP STEP 1 TERMINÉ!")
print("=" * 50)

if 'benchmark' in locals() and benchmark:
    print("✅ COMPOSANTS CONFIGURÉS:")
    print("   🔧 Ollama + LLaMA 13B installés")
    print("   📚 Base de connaissances VPLE + MITRE ATT&CK créée")
    print("   🤖 Système RAG opérationnel") 
    print("   🎯 Interface VPLE configurée")
    
    print(f"\n📊 RESSOURCES SYSTÈME:")
    gpu_info = benchmark.setup.get_gpu_memory_usage()
    if "error" not in gpu_info:
        print(f"   🔥 GPU: {gpu_info['used_mb']:.0f}MB/{gpu_info['total_mb']:.0f}MB utilisés")
        print(f"   💾 VRAM libre: {gpu_info['free_mb']:.0f}MB")
    
    print(f"\n🎯 CIBLE VPLE:")
    print(f"   📍 IP: {VPLE_CONFIG['ip']}")
    print(f"   🔑 Credentials: administrator:password")
    print(f"   🌐 Applications: {len(VPLE_CONFIG['applications'])} web apps")
    
    print(f"\n➡️ PROCHAINES ÉTAPES:")
    print(f"   📓 Step 2: Génération de scénarios LLM vs Human")
    print(f"   📋 Step 3: Création de templates de test manuel")
    print(f"   🧪 Step 4: Exécution manuelle sur VPLE VM")
    print(f"   📊 Step 5: Analyse comparative et résultats")
    
    print(f"\n🔬 OBJECTIF DE RECHERCHE:")
    print(f"   Démontrer quantitativement que l'expertise humaine")
    print(f"   surpasse les LLMs actuels en génération de scénarios cybersécurité")
    
else:
    print("❌ SETUP ÉCHOUÉ")
    print("🔧 Relancez ce notebook pour diagnostiquer les problèmes")

print("\n" + "="*50)
print("🚀 Passez au notebook Step 2 pour générer les scénarios!")
